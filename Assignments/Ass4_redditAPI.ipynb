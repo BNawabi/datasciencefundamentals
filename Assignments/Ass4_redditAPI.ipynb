{
 "cells": [
  {
   "cell_type": "code",
   "execution_count": 96,
   "metadata": {},
   "outputs": [],
   "source": [
    "import pandas as pd\n",
    "import time\n",
    "import praw\n",
    "import matplotlib.pyplot as plt"
   ]
  },
  {
   "cell_type": "code",
   "execution_count": 2,
   "metadata": {},
   "outputs": [],
   "source": [
    "CLIENT_ID = \"Co_p839bA_wjqA\"\n",
    "CLIENT_SECRET = \"XItgYS7EFva2lvU2GOr4gVKvULc\"\n",
    "USER_AGENT = f\"python:{CLIENT_ID}:0.1 (by /u/Voidskiz)\""
   ]
  },
  {
   "cell_type": "code",
   "execution_count": 3,
   "metadata": {},
   "outputs": [],
   "source": [
    "api = praw.Reddit(\n",
    "    client_id = CLIENT_ID,\n",
    "    client_secret = CLIENT_SECRET,\n",
    "    user_agent = USER_AGENT\n",
    ")"
   ]
  },
  {
   "cell_type": "code",
   "execution_count": 4,
   "metadata": {},
   "outputs": [],
   "source": [
    "posts = []\n",
    "submissions = api.subreddit(\"europe\").new(limit = 500)\n",
    "for submission in submissions:\n",
    "    item = {\n",
    "        \"title\" : submission.title,\n",
    "        \"score\" : submission.score,\n",
    "        \"comments\" : submission.num_comments,\n",
    "        \"author\" : submission.author,\n",
    "        \"time\" : time.ctime(submission.created_utc),\n",
    "        \"id\" : submission.id\n",
    "    }\n",
    "    posts.append(item)\n",
    "\n",
    "    # submissions in a new list containing \n",
    "    #author's name, time created, 'score', number of comments in a submission and the title.\n"
   ]
  },
  {
   "cell_type": "code",
   "execution_count": 5,
   "metadata": {},
   "outputs": [],
   "source": [
    "df = pd.DataFrame(posts)"
   ]
  },
  {
   "cell_type": "code",
   "execution_count": 6,
   "metadata": {},
   "outputs": [
    {
     "data": {
      "text/html": [
       "<div>\n",
       "<style scoped>\n",
       "    .dataframe tbody tr th:only-of-type {\n",
       "        vertical-align: middle;\n",
       "    }\n",
       "\n",
       "    .dataframe tbody tr th {\n",
       "        vertical-align: top;\n",
       "    }\n",
       "\n",
       "    .dataframe thead th {\n",
       "        text-align: right;\n",
       "    }\n",
       "</style>\n",
       "<table border=\"1\" class=\"dataframe\">\n",
       "  <thead>\n",
       "    <tr style=\"text-align: right;\">\n",
       "      <th></th>\n",
       "      <th>author</th>\n",
       "      <th>comments</th>\n",
       "      <th>id</th>\n",
       "      <th>score</th>\n",
       "      <th>time</th>\n",
       "      <th>title</th>\n",
       "    </tr>\n",
       "  </thead>\n",
       "  <tbody>\n",
       "    <tr>\n",
       "      <th>0</th>\n",
       "      <td>vlad_albulescu</td>\n",
       "      <td>0</td>\n",
       "      <td>9qec3g</td>\n",
       "      <td>1</td>\n",
       "      <td>Mon Oct 22 16:30:31 2018</td>\n",
       "      <td>Student granted UK visa after uproar</td>\n",
       "    </tr>\n",
       "    <tr>\n",
       "      <th>1</th>\n",
       "      <td>dobramine</td>\n",
       "      <td>0</td>\n",
       "      <td>9qebzb</td>\n",
       "      <td>1</td>\n",
       "      <td>Mon Oct 22 16:30:11 2018</td>\n",
       "      <td>Bolton in Moscow amid missile deal tension</td>\n",
       "    </tr>\n",
       "    <tr>\n",
       "      <th>2</th>\n",
       "      <td>mryuri-88</td>\n",
       "      <td>1</td>\n",
       "      <td>9qe7r5</td>\n",
       "      <td>0</td>\n",
       "      <td>Mon Oct 22 16:16:50 2018</td>\n",
       "      <td>rain ♡♡♡</td>\n",
       "    </tr>\n",
       "    <tr>\n",
       "      <th>3</th>\n",
       "      <td>ForPOTUS</td>\n",
       "      <td>0</td>\n",
       "      <td>9qe5l5</td>\n",
       "      <td>1</td>\n",
       "      <td>Mon Oct 22 16:09:45 2018</td>\n",
       "      <td>With All the Talk of a Petroyuan it Seems Like...</td>\n",
       "    </tr>\n",
       "    <tr>\n",
       "      <th>4</th>\n",
       "      <td>OrneryThroat</td>\n",
       "      <td>0</td>\n",
       "      <td>9qe4hi</td>\n",
       "      <td>4</td>\n",
       "      <td>Mon Oct 22 16:06:11 2018</td>\n",
       "      <td>Italian populist government braces for EU budg...</td>\n",
       "    </tr>\n",
       "  </tbody>\n",
       "</table>\n",
       "</div>"
      ],
      "text/plain": [
       "           author  comments      id  score                      time  \\\n",
       "0  vlad_albulescu         0  9qec3g      1  Mon Oct 22 16:30:31 2018   \n",
       "1       dobramine         0  9qebzb      1  Mon Oct 22 16:30:11 2018   \n",
       "2       mryuri-88         1  9qe7r5      0  Mon Oct 22 16:16:50 2018   \n",
       "3        ForPOTUS         0  9qe5l5      1  Mon Oct 22 16:09:45 2018   \n",
       "4    OrneryThroat         0  9qe4hi      4  Mon Oct 22 16:06:11 2018   \n",
       "\n",
       "                                               title  \n",
       "0               Student granted UK visa after uproar  \n",
       "1         Bolton in Moscow amid missile deal tension  \n",
       "2                                           rain ♡♡♡  \n",
       "3  With All the Talk of a Petroyuan it Seems Like...  \n",
       "4  Italian populist government braces for EU budg...  "
      ]
     },
     "execution_count": 6,
     "metadata": {},
     "output_type": "execute_result"
    }
   ],
   "source": [
    "df.head()"
   ]
  },
  {
   "cell_type": "code",
   "execution_count": 7,
   "metadata": {},
   "outputs": [],
   "source": [
    "valcounts = df['author'].value_counts()"
   ]
  },
  {
   "cell_type": "code",
   "execution_count": 8,
   "metadata": {},
   "outputs": [
    {
     "data": {
      "text/plain": [
       "sektabox          21\n",
       "dobramine         10\n",
       "vlad_albulescu     9\n",
       "Atellani           8\n",
       "SlyScorpion        8\n",
       "Cxbfkfn            7\n",
       "JackRogers3        6\n",
       "Saint_eX           6\n",
       "boppinmule         6\n",
       "seamath2           5\n",
       "Name: author, dtype: int64"
      ]
     },
     "execution_count": 8,
     "metadata": {},
     "output_type": "execute_result"
    }
   ],
   "source": [
    "valcounts.head(10)"
   ]
  },
  {
   "cell_type": "code",
   "execution_count": 99,
   "metadata": {},
   "outputs": [
    {
     "data": {
      "text/plain": [
       "<matplotlib.axes._subplots.AxesSubplot at 0x23a20ae3d30>"
      ]
     },
     "execution_count": 99,
     "metadata": {},
     "output_type": "execute_result"
    },
    {
     "data": {
      "image/png": "[encoded data removed]",
      "text/plain": [
       "<Figure size 432x288 with 1 Axes>"
      ]
     },
     "metadata": {},
     "output_type": "display_data"
    },
    {
     "data": {
      "image/png": "[encoded data removed]",
      "text/plain": [
       "<Figure size 432x288 with 1 Axes>"
      ]
     },
     "metadata": {},
     "output_type": "display_data"
    }
   ],
   "source": [
    "#Plot a histogram with ten bins for both the comment count and score of all the submissions.\n",
    "df.plot(kind = \"hist\", y = [\"comments\"], bins = 10, title = \"Reddit Karma & Comment Count\")\n",
    "df.plot(kind = \"hist\", y = [\"score\"], bins = 10, title = \"Reddit Karma & Comment Count\")"
   ]
  },
  {
   "cell_type": "code",
   "execution_count": 122,
   "metadata": {},
   "outputs": [],
   "source": [
    "# Make a line plot showing the number of posts per hour/day/month, depending on the frequency of posting in your chosen subreddit. You'll need to convert the timestamps / created date to a new Pandas series and resample that to hour/day/month.\n",
    "def timeformat_day(time):\n",
    "    return time[0:3]\n",
    "def timeformat_hour(time):\n",
    "    return time[10:13]\n",
    "def timeformat_month(time):\n",
    "    return time[4:7]\n",
    "def timeformat_daynr(time):\n",
    "    return time[8:10]\n",
    "\n",
    "df[\"day\"] = df[\"time\"].apply(timeformat_day)\n",
    "df[\"month\"] = df[\"time\"].apply(timeformat_month)\n",
    "df[\"daynr\"] = df[\"time\"].apply(timeformat_daynr)\n",
    "df[\"hour\"] = df[\"time\"].apply(timeformat_hour)"
   ]
  },
  {
   "cell_type": "code",
   "execution_count": 123,
   "metadata": {},
   "outputs": [
    {
     "data": {
      "text/html": [
       "<div>\n",
       "<style scoped>\n",
       "    .dataframe tbody tr th:only-of-type {\n",
       "        vertical-align: middle;\n",
       "    }\n",
       "\n",
       "    .dataframe tbody tr th {\n",
       "        vertical-align: top;\n",
       "    }\n",
       "\n",
       "    .dataframe thead th {\n",
       "        text-align: right;\n",
       "    }\n",
       "</style>\n",
       "<table border=\"1\" class=\"dataframe\">\n",
       "  <thead>\n",
       "    <tr style=\"text-align: right;\">\n",
       "      <th></th>\n",
       "      <th>author</th>\n",
       "      <th>comments</th>\n",
       "      <th>id</th>\n",
       "      <th>score</th>\n",
       "      <th>time</th>\n",
       "      <th>title</th>\n",
       "      <th>day</th>\n",
       "      <th>month</th>\n",
       "      <th>daynr</th>\n",
       "      <th>hour</th>\n",
       "      <th>numerichour</th>\n",
       "    </tr>\n",
       "  </thead>\n",
       "  <tbody>\n",
       "    <tr>\n",
       "      <th>0</th>\n",
       "      <td>vlad_albulescu</td>\n",
       "      <td>0</td>\n",
       "      <td>9qec3g</td>\n",
       "      <td>1</td>\n",
       "      <td>Mon Oct 22 16:30:31 2018</td>\n",
       "      <td>Student granted UK visa after uproar</td>\n",
       "      <td>Mon</td>\n",
       "      <td>Oct</td>\n",
       "      <td>22</td>\n",
       "      <td>16</td>\n",
       "      <td>16</td>\n",
       "    </tr>\n",
       "    <tr>\n",
       "      <th>1</th>\n",
       "      <td>dobramine</td>\n",
       "      <td>0</td>\n",
       "      <td>9qebzb</td>\n",
       "      <td>1</td>\n",
       "      <td>Mon Oct 22 16:30:11 2018</td>\n",
       "      <td>Bolton in Moscow amid missile deal tension</td>\n",
       "      <td>Mon</td>\n",
       "      <td>Oct</td>\n",
       "      <td>22</td>\n",
       "      <td>16</td>\n",
       "      <td>16</td>\n",
       "    </tr>\n",
       "    <tr>\n",
       "      <th>2</th>\n",
       "      <td>mryuri-88</td>\n",
       "      <td>1</td>\n",
       "      <td>9qe7r5</td>\n",
       "      <td>0</td>\n",
       "      <td>Mon Oct 22 16:16:50 2018</td>\n",
       "      <td>rain ♡♡♡</td>\n",
       "      <td>Mon</td>\n",
       "      <td>Oct</td>\n",
       "      <td>22</td>\n",
       "      <td>16</td>\n",
       "      <td>16</td>\n",
       "    </tr>\n",
       "    <tr>\n",
       "      <th>3</th>\n",
       "      <td>ForPOTUS</td>\n",
       "      <td>0</td>\n",
       "      <td>9qe5l5</td>\n",
       "      <td>1</td>\n",
       "      <td>Mon Oct 22 16:09:45 2018</td>\n",
       "      <td>With All the Talk of a Petroyuan it Seems Like...</td>\n",
       "      <td>Mon</td>\n",
       "      <td>Oct</td>\n",
       "      <td>22</td>\n",
       "      <td>16</td>\n",
       "      <td>16</td>\n",
       "    </tr>\n",
       "    <tr>\n",
       "      <th>4</th>\n",
       "      <td>OrneryThroat</td>\n",
       "      <td>0</td>\n",
       "      <td>9qe4hi</td>\n",
       "      <td>4</td>\n",
       "      <td>Mon Oct 22 16:06:11 2018</td>\n",
       "      <td>Italian populist government braces for EU budg...</td>\n",
       "      <td>Mon</td>\n",
       "      <td>Oct</td>\n",
       "      <td>22</td>\n",
       "      <td>16</td>\n",
       "      <td>16</td>\n",
       "    </tr>\n",
       "  </tbody>\n",
       "</table>\n",
       "</div>"
      ],
      "text/plain": [
       "           author  comments      id  score                      time  \\\n",
       "0  vlad_albulescu         0  9qec3g      1  Mon Oct 22 16:30:31 2018   \n",
       "1       dobramine         0  9qebzb      1  Mon Oct 22 16:30:11 2018   \n",
       "2       mryuri-88         1  9qe7r5      0  Mon Oct 22 16:16:50 2018   \n",
       "3        ForPOTUS         0  9qe5l5      1  Mon Oct 22 16:09:45 2018   \n",
       "4    OrneryThroat         0  9qe4hi      4  Mon Oct 22 16:06:11 2018   \n",
       "\n",
       "                                               title  day month daynr hour  \\\n",
       "0               Student granted UK visa after uproar  Mon   Oct    22   16   \n",
       "1         Bolton in Moscow amid missile deal tension  Mon   Oct    22   16   \n",
       "2                                           rain ♡♡♡  Mon   Oct    22   16   \n",
       "3  With All the Talk of a Petroyuan it Seems Like...  Mon   Oct    22   16   \n",
       "4  Italian populist government braces for EU budg...  Mon   Oct    22   16   \n",
       "\n",
       "   numerichour  \n",
       "0           16  \n",
       "1           16  \n",
       "2           16  \n",
       "3           16  \n",
       "4           16  "
      ]
     },
     "execution_count": 123,
     "metadata": {},
     "output_type": "execute_result"
    }
   ],
   "source": [
    "df.head(5)"
   ]
  },
  {
   "cell_type": "code",
   "execution_count": 109,
   "metadata": {
    "scrolled": false
   },
   "outputs": [],
   "source": [
    "daily = df['daynr'].value_counts()"
   ]
  },
  {
   "cell_type": "code",
   "execution_count": 110,
   "metadata": {},
   "outputs": [
    {
     "data": {
      "text/plain": [
       "21    151\n",
       "19    136\n",
       "20    115\n",
       "22     80\n",
       "18     18\n",
       "Name: daynr, dtype: int64"
      ]
     },
     "execution_count": 110,
     "metadata": {},
     "output_type": "execute_result"
    }
   ],
   "source": [
    "daily"
   ]
  },
  {
   "cell_type": "code",
   "execution_count": 124,
   "metadata": {},
   "outputs": [
    {
     "data": {
      "text/plain": [
       "<matplotlib.axes._subplots.AxesSubplot at 0x23a2071bba8>"
      ]
     },
     "execution_count": 124,
     "metadata": {},
     "output_type": "execute_result"
    },
    {
     "data": {
      "image/png": "[encoded data removed]",
      "text/plain": [
       "<Figure size 432x288 with 1 Axes>"
      ]
     },
     "metadata": {},
     "output_type": "display_data"
    }
   ],
   "source": [
    "daily.plot.line(y=\"numericday\", title=\"post activity /r/europe\")"
   ]
  },
  {
   "cell_type": "code",
   "execution_count": 59,
   "metadata": {},
   "outputs": [
    {
     "data": {
      "text/html": [
       "<div>\n",
       "<style scoped>\n",
       "    .dataframe tbody tr th:only-of-type {\n",
       "        vertical-align: middle;\n",
       "    }\n",
       "\n",
       "    .dataframe tbody tr th {\n",
       "        vertical-align: top;\n",
       "    }\n",
       "\n",
       "    .dataframe thead th {\n",
       "        text-align: right;\n",
       "    }\n",
       "</style>\n",
       "<table border=\"1\" class=\"dataframe\">\n",
       "  <thead>\n",
       "    <tr style=\"text-align: right;\">\n",
       "      <th></th>\n",
       "      <th>author</th>\n",
       "      <th>body</th>\n",
       "      <th>score</th>\n",
       "    </tr>\n",
       "  </thead>\n",
       "  <tbody>\n",
       "    <tr>\n",
       "      <th>0</th>\n",
       "      <td>AmericanSamoa6666</td>\n",
       "      <td>Largest protest in the U.K. since the Iraq war</td>\n",
       "      <td>333</td>\n",
       "    </tr>\n",
       "    <tr>\n",
       "      <th>1</th>\n",
       "      <td>H0agh</td>\n",
       "      <td>Latest estimate is 670.000 which is pretty imp...</td>\n",
       "      <td>556</td>\n",
       "    </tr>\n",
       "    <tr>\n",
       "      <th>2</th>\n",
       "      <td>dinkydarko</td>\n",
       "      <td>Was down there earlier. By far the largest mar...</td>\n",
       "      <td>202</td>\n",
       "    </tr>\n",
       "    <tr>\n",
       "      <th>3</th>\n",
       "      <td>Throwawayacountn3</td>\n",
       "      <td>Are ok UK?</td>\n",
       "      <td>131</td>\n",
       "    </tr>\n",
       "    <tr>\n",
       "      <th>4</th>\n",
       "      <td>PePe_The_Frog</td>\n",
       "      <td>but if they reverse the vote then ppl will mar...</td>\n",
       "      <td>244</td>\n",
       "    </tr>\n",
       "  </tbody>\n",
       "</table>\n",
       "</div>"
      ],
      "text/plain": [
       "              author                                               body  score\n",
       "0  AmericanSamoa6666    Largest protest in the U.K. since the Iraq war     333\n",
       "1              H0agh  Latest estimate is 670.000 which is pretty imp...    556\n",
       "2         dinkydarko  Was down there earlier. By far the largest mar...    202\n",
       "3  Throwawayacountn3                                         Are ok UK?    131\n",
       "4      PePe_The_Frog  but if they reverse the vote then ppl will mar...    244"
      ]
     },
     "execution_count": 59,
     "metadata": {},
     "output_type": "execute_result"
    }
   ],
   "source": [
    "highestcomment = df.sort_values(by=\"comments\",ascending=False)\n",
    "mostcomments = highestcomment[\"id\"].head(1)\n",
    "postid = mostcomments.to_string(index=False)\n",
    "post = api.submission(id=f'{postid}')\n",
    "\n",
    "commentz = []\n",
    "\n",
    "for comment in post.comments:\n",
    "    if isinstance(comment, praw.models.MoreComments):\n",
    "        continue\n",
    "    item = {\n",
    "        \"author\" : comment.author.name,\n",
    "        \"score\" : comment.score,\n",
    "        \"body\": comment.body\n",
    "    }\n",
    "    commentz.append(item)\n",
    "\n",
    "commentdf = pd.DataFrame(commentz)\n",
    "commentdf.head(5)"
   ]
  },
  {
   "cell_type": "code",
   "execution_count": 69,
   "metadata": {},
   "outputs": [
    {
     "data": {
      "text/html": [
       "<div>\n",
       "<style scoped>\n",
       "    .dataframe tbody tr th:only-of-type {\n",
       "        vertical-align: middle;\n",
       "    }\n",
       "\n",
       "    .dataframe tbody tr th {\n",
       "        vertical-align: top;\n",
       "    }\n",
       "\n",
       "    .dataframe thead th {\n",
       "        text-align: right;\n",
       "    }\n",
       "</style>\n",
       "<table border=\"1\" class=\"dataframe\">\n",
       "  <thead>\n",
       "    <tr style=\"text-align: right;\">\n",
       "      <th></th>\n",
       "      <th>score</th>\n",
       "    </tr>\n",
       "    <tr>\n",
       "      <th>author</th>\n",
       "      <th></th>\n",
       "    </tr>\n",
       "  </thead>\n",
       "  <tbody>\n",
       "    <tr>\n",
       "      <th>H0agh</th>\n",
       "      <td>556</td>\n",
       "    </tr>\n",
       "    <tr>\n",
       "      <th>AmericanSamoa6666</th>\n",
       "      <td>333</td>\n",
       "    </tr>\n",
       "    <tr>\n",
       "      <th>PePe_The_Frog</th>\n",
       "      <td>244</td>\n",
       "    </tr>\n",
       "    <tr>\n",
       "      <th>dinkydarko</th>\n",
       "      <td>202</td>\n",
       "    </tr>\n",
       "    <tr>\n",
       "      <th>U-GameZ</th>\n",
       "      <td>167</td>\n",
       "    </tr>\n",
       "  </tbody>\n",
       "</table>\n",
       "</div>"
      ],
      "text/plain": [
       "                   score\n",
       "author                  \n",
       "H0agh                556\n",
       "AmericanSamoa6666    333\n",
       "PePe_The_Frog        244\n",
       "dinkydarko           202\n",
       "U-GameZ              167"
      ]
     },
     "execution_count": 69,
     "metadata": {},
     "output_type": "execute_result"
    }
   ],
   "source": [
    "topcommenters = pd.DataFrame(commentdf.groupby(\"author\")[\"score\"].sum().sort_values(ascending = False))\n",
    "topcommenters.head(5)"
   ]
  },
  {
   "cell_type": "code",
   "execution_count": 87,
   "metadata": {},
   "outputs": [
    {
     "data": {
      "text/plain": [
       "<matplotlib.axes._subplots.AxesSubplot at 0x23a20111278>"
      ]
     },
     "execution_count": 87,
     "metadata": {},
     "output_type": "execute_result"
    },
    {
     "data": {
      "image/png": "[encoded data removed]",
      "text/plain": [
       "<Figure size 432x288 with 1 Axes>"
      ]
     },
     "metadata": {},
     "output_type": "display_data"
    }
   ],
   "source": [
    "top10 = pd.DataFrame(topcommenters.head(10))\n",
    "top10.plot(kind=\"bar\", y=\"score\", title=\"Top 10 commenters in most commented thread (karma)\")\n",
    "# For that same DataFrame, plot the top 10 authors as a horizontal bar chart with the total score they got."
   ]
  },
  {
   "cell_type": "code",
   "execution_count": null,
   "metadata": {},
   "outputs": [],
   "source": []
  }
 ],
 "metadata": {
  "kernelspec": {
   "display_name": "Python 3",
   "language": "python",
   "name": "python3"
  },
  "language_info": {
   "codemirror_mode": {
    "name": "ipython",
    "version": 3
   },
   "file_extension": ".py",
   "mimetype": "text/x-python",
   "name": "python",
   "nbconvert_exporter": "python",
   "pygments_lexer": "ipython3",
   "version": "3.6.5"
  }
 },
 "nbformat": 4,
 "nbformat_minor": 2
}
