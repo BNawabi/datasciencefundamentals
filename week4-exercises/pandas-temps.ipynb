{
 "cells": [
  {
   "cell_type": "code",
   "execution_count": 1,
   "metadata": {},
   "outputs": [],
   "source": [
    "import pandas as pd"
   ]
  },
  {
   "cell_type": "code",
   "execution_count": 3,
   "metadata": {},
   "outputs": [],
   "source": [
    "df = pd.read_csv(\"temperatures.csv\")"
   ]
  },
  {
   "cell_type": "code",
   "execution_count": 4,
   "metadata": {},
   "outputs": [
    {
     "name": "stdout",
     "output_type": "stream",
     "text": [
      "        day  temperature\n",
      "0  20170101          0.5\n",
      "1  20170102          3.0\n",
      "2  20170103          5.0\n",
      "3  20170104          5.8\n",
      "4  20170105          0.0\n"
     ]
    }
   ],
   "source": [
    "print(df.head())"
   ]
  },
  {
   "cell_type": "code",
   "execution_count": 5,
   "metadata": {},
   "outputs": [
    {
     "name": "stdout",
     "output_type": "stream",
     "text": [
      "                day  temperature\n",
      "count  3.650000e+02   365.000000\n",
      "mean   2.017067e+07    10.965753\n",
      "std    3.454755e+02     6.034407\n",
      "min    2.017010e+07    -3.800000\n",
      "25%    2.017040e+07     6.600000\n",
      "50%    2.017070e+07    10.900000\n",
      "75%    2.017100e+07    16.100000\n",
      "max    2.017123e+07    23.600000\n"
     ]
    }
   ],
   "source": [
    "print(df.describe())"
   ]
  },
  {
   "cell_type": "code",
   "execution_count": 12,
   "metadata": {},
   "outputs": [
    {
     "name": "stdout",
     "output_type": "stream",
     "text": [
      "          day  temperature\n",
      "136  20170517         22.3\n",
      "146  20170527         22.9\n",
      "169  20170619         23.6\n",
      "172  20170622         22.9\n",
      "199  20170719         23.5\n"
     ]
    }
   ],
   "source": [
    "df_22 = df[df[\"temperature\"] > 22]\n",
    "print(df_22)"
   ]
  },
  {
   "cell_type": "code",
   "execution_count": 14,
   "metadata": {},
   "outputs": [
    {
     "name": "stdout",
     "output_type": "stream",
     "text": [
      "         day  temperature\n",
      "16  20170117         -3.4\n",
      "17  20170118         -3.8\n"
     ]
    }
   ],
   "source": [
    "df_minus3 = df[df[\"temperature\"] < -3]\n",
    "print(df_minus3)"
   ]
  },
  {
   "cell_type": "code",
   "execution_count": 16,
   "metadata": {},
   "outputs": [],
   "source": [
    "df[\"freezing\"] = df[\"temperature\"] < 0"
   ]
  },
  {
   "cell_type": "code",
   "execution_count": 18,
   "metadata": {},
   "outputs": [
    {
     "name": "stdout",
     "output_type": "stream",
     "text": [
      "        day  temperature  freezing\n",
      "0  20170101          0.5     False\n",
      "1  20170102          3.0     False\n",
      "2  20170103          5.0     False\n",
      "3  20170104          5.8     False\n",
      "4  20170105          0.0     False\n",
      "5  20170106         -3.0      True\n",
      "6  20170107         -0.2      True\n",
      "7  20170108          4.3     False\n",
      "8  20170109          4.8     False\n",
      "9  20170110          5.3     False\n"
     ]
    }
   ],
   "source": [
    "print(df.head(10))"
   ]
  },
  {
   "cell_type": "code",
   "execution_count": 27,
   "metadata": {},
   "outputs": [
    {
     "data": {
      "text/plain": [
       "<matplotlib.axes._subplots.AxesSubplot at 0x24cf79201d0>"
      ]
     },
     "execution_count": 27,
     "metadata": {},
     "output_type": "execute_result"
    },
    {
     "data": {
      "image/png": "[encoded data removed]",
      "text/plain": [
       "<Figure size 432x288 with 1 Axes>"
      ]
     },
     "metadata": {},
     "output_type": "display_data"
    }
   ],
   "source": [
    "df.plot(\"day\")"
   ]
  },
  {
   "cell_type": "code",
   "execution_count": null,
   "metadata": {},
   "outputs": [],
   "source": []
  }
 ],
 "metadata": {
  "kernelspec": {
   "display_name": "Python 3",
   "language": "python",
   "name": "python3"
  },
  "language_info": {
   "codemirror_mode": {
    "name": "ipython",
    "version": 3
   },
   "file_extension": ".py",
   "mimetype": "text/x-python",
   "name": "python",
   "nbconvert_exporter": "python",
   "pygments_lexer": "ipython3",
   "version": "3.6.5"
  }
 },
 "nbformat": 4,
 "nbformat_minor": 2
}
