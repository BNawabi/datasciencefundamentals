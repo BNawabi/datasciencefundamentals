{
 "cells": [
  {
   "cell_type": "code",
   "execution_count": 69,
   "metadata": {},
   "outputs": [
    {
     "name": "stdout",
     "output_type": "stream",
     "text": [
      "Welcome! With this program you can quickly get information from Wikipedia!\n",
      "\n",
      "Choose one of the following langauges:\n",
      "\n",
      "- English\n",
      "- Italian\n",
      "- Dutch\n",
      "- Spanish\n",
      "- German\n",
      "Got that! Now choose your article by name!\n",
      "\n",
      "\n",
      "You chose German as language and Berlin as article name.\n",
      "\n",
      "Statuscode 200 - Which means the query succesfull! We can get the data! (see below...) \n",
      "\n",
      "\n",
      "Title: Berlin\n",
      "\n",
      "Description: deutsche Großstadt; Hauptstadt und Land der Bundesrepublik Deutschland\n"
     ]
    },
    {
     "data": {
      "text/html": [
       "<img src=\"https://upload.wikimedia.org/wikipedia/commons/thumb/c/c3/Locator_map_Berlin_in_Germany.svg/236px-Locator_map_Berlin_in_Germany.svg.png\"/>"
      ],
      "text/plain": [
       "<IPython.core.display.Image object>"
      ]
     },
     "metadata": {},
     "output_type": "display_data"
    },
    {
     "data": {
      "text/html": [
       "<p><b>Berlin</b> [\n",
       "<span class=\"IPA\">bɛɐ̯ˈliːn</span>] ist die Bundeshauptstadt der Bundesrepublik Deutschland und zugleich eines ihrer Länder. Die Stadt Berlin ist mit rund 3,6 Millionen Einwohnern die bevölkerungsreichste und mit 892 Quadratkilometern die flächengrößte Gemeinde Deutschlands. Sie bildet das Zentrum der Metropolregion Berlin/Brandenburg und der Agglomeration Berlin. Der Stadtstaat besteht aus zwölf Bezirken. Neben den Flüssen Spree und Havel befinden sich im Stadtgebiet kleinere Fließgewässer sowie zahlreiche Seen und Wälder.</p>"
      ],
      "text/plain": [
       "<IPython.core.display.HTML object>"
      ]
     },
     "metadata": {},
     "output_type": "display_data"
    },
    {
     "data": {
      "text/html": [
       "<a href=\"http://maps.google.com/?q=loc:52.51861111+13.40833333\">Visit this place on Google Maps!</a><br><br>"
      ],
      "text/plain": [
       "<IPython.core.display.HTML object>"
      ]
     },
     "metadata": {},
     "output_type": "display_data"
    },
    {
     "data": {
      "text/html": [
       "<b><u>Related Results:</b></u><br>"
      ],
      "text/plain": [
       "<IPython.core.display.HTML object>"
      ]
     },
     "metadata": {},
     "output_type": "display_data"
    },
    {
     "name": "stdout",
     "output_type": "stream",
     "text": [
      "\n",
      "Statuscode 200 - Which means the query succesfull! We can get the data! (see below...) \n",
      "\n",
      "Title: Bezirk Tempelhof-Schöneberg\n",
      "Description: Bezirk von Berlin\n",
      "Desktop URL: https://de.wikipedia.org/wiki/Bezirk_Tempelhof-Schöneberg\n"
     ]
    },
    {
     "data": {
      "text/html": [
       "<a href=\"https://de.wikipedia.org/wiki/Bezirk_Tempelhof-Schöneberg\">Visit the Wiki page.</a><br><br>"
      ],
      "text/plain": [
       "<IPython.core.display.HTML object>"
      ]
     },
     "metadata": {},
     "output_type": "display_data"
    },
    {
     "name": "stdout",
     "output_type": "stream",
     "text": [
      "Title: Wirtschaft Berlins\n",
      "Description: Bezirk von Berlin\n",
      "Desktop URL: https://de.wikipedia.org/wiki/Wirtschaft_Berlins\n"
     ]
    },
    {
     "data": {
      "text/html": [
       "<a href=\"https://de.wikipedia.org/wiki/Wirtschaft_Berlins\">Visit the Wiki page.</a><br><br>"
      ],
      "text/plain": [
       "<IPython.core.display.HTML object>"
      ]
     },
     "metadata": {},
     "output_type": "display_data"
    },
    {
     "name": "stdout",
     "output_type": "stream",
     "text": [
      "Title: Bezirk Mitte\n",
      "Description: Bezirk von Berlin\n",
      "Desktop URL: https://de.wikipedia.org/wiki/Bezirk_Mitte\n"
     ]
    },
    {
     "data": {
      "text/html": [
       "<a href=\"https://de.wikipedia.org/wiki/Bezirk_Mitte\">Visit the Wiki page.</a><br><br>"
      ],
      "text/plain": [
       "<IPython.core.display.HTML object>"
      ]
     },
     "metadata": {},
     "output_type": "display_data"
    }
   ],
   "source": [
    "import requests\n",
    "import json\n",
    "from IPython.display import display, Image, HTML\n",
    "\n",
    "# 2 lists so user input can be transformed into workable prefix\n",
    "langs = [\"en\",\"it\",\"nl\",\"es\",\"de\"]\n",
    "langsfull = [\"English\",\"Italian\",\"Dutch\",\"Spanish\",\"German\"]\n",
    "\n",
    "print(\"Welcome! With this program you can quickly get information from Wikipedia!\\n\")\n",
    "print(\"Choose one of the following langauges:\\n\")\n",
    "for l in langsfull:\n",
    "    print(f\"- {l}\")\n",
    "\n",
    "#asking for input\n",
    "inputprefix = input(\"Language: \\n\").lower().capitalize().strip()\n",
    "while inputprefix not in langsfull: #securing the right input\n",
    "    print(\"Please choose a langauge out of the given options.\")\n",
    "    inputprefix = input(\"Language: \\n\").lower().capitalize().strip()\n",
    "\n",
    "print(\"Got that! Now choose your article by name!\\n\")\n",
    "inputdata = input(\"Article name: \\n\").lower().capitalize().strip()\n",
    "print(f\"\\nYou chose {inputprefix} as language and {inputdata} as article name.\") \n",
    "inputdata = inputdata.replace(\" \",\"_\") #to transform UserInput into computer readable parts for API calls\n",
    "\n",
    "#locating and replacing\n",
    "location = langsfull.index(inputprefix) \n",
    "prefix = langs[location] \n",
    "inputurl = (f\"https://{prefix}.wikipedia.org/api/rest_v1/page/summary/{inputdata}\")\n",
    "req = requests.get(inputurl)\n",
    "statuscode = req.status_code\n",
    "\n",
    "# statuscode function so I can run it multiple times\n",
    "def check_statuscode():\n",
    "    if statuscode is 200:\n",
    "       print(f\"\\nStatuscode {statuscode} - Which means the query succesfull! We can get the data! (see below...) \\n\")\n",
    "    else:\n",
    "       print(f\"\\nOops.. error error... iets gaat er fout. Error {statuscode}!\")\n",
    "       exit()\n",
    "check_statuscode()\n",
    "\n",
    "data = json.loads(req.text)\n",
    "calls = [\"description\",\"thumbnail\",\"extract_html\",\"coordinates\"]\n",
    "\n",
    "print(f\"\\nTitle: {data['title']}\") \n",
    "for call in calls:\n",
    "    if call not in data: # general error if something goes wrong\n",
    "        print(f\"{call}: No {call} exists.\")\n",
    "    else:\n",
    "        if call == \"description\":\n",
    "            print(f\"\\nDescription: {data['description']}\")\n",
    "        if call == \"thumbnail\":\n",
    "            thumbsrc = f\"{data['thumbnail']['source']}\"\n",
    "            img = Image(url = thumbsrc)\n",
    "            display(img)\n",
    "        if call == \"extract_html\":\n",
    "            extract = HTML(data['extract_html'])\n",
    "            display(extract)\n",
    "        if call == \"coordinates\":\n",
    "            lat = data['coordinates']['lat']\n",
    "            lon = data['coordinates']['lon']\n",
    "            maps_url = (f\"http://maps.google.com/?q=loc:{lat}+{lon}\")\n",
    "            display(HTML(f'<a href=\"{maps_url}\">Visit this place on Google Maps!</a><br><br>'))\n",
    "\n",
    "# swapping from summary to related articles input\n",
    "req = requests.get(inputurl.replace(\"summary\",\"related\"))\n",
    "display(HTML(f'<b><u>Related Results:</b></u><br>'))\n",
    "check_statuscode()\n",
    "data = json.loads(req.text)\n",
    "related_results = []\n",
    "looplist = [\"title\",\"description\",\"url\"]\n",
    "index = 0\n",
    "\n",
    "# writing the values from the json file to the dictionaries in the lists \n",
    "for item in looplist:\n",
    "    title = data[\"pages\"][index][\"displaytitle\"]\n",
    "    if \"description\" in data[\"pages\"][index]: \n",
    "        description = data[\"pages\"][index][\"description\"]\n",
    "    else: \n",
    "        description == \"No description available.\"\n",
    "    contenturls = data[\"pages\"][index][\"content_urls\"][\"desktop\"][\"page\"]\n",
    "    dict_item = {\n",
    "        \"Title\": title,\n",
    "        \"Description\": description,\n",
    "        \"URL\": contenturls}\n",
    "    add = related_results.append(dict_item)\n",
    "    index = index + 1\n",
    "\n",
    "# related results output from dictionaries    \n",
    "for line in related_results:\n",
    "        print(f'Title: {line[\"Title\"]}')\n",
    "        print(f'Description: {line[\"Description\"]}')\n",
    "        print(f'Desktop URL: {line[\"URL\"]}')\n",
    "        display(HTML(f'<a href=\"{line[\"URL\"]}\">Visit the Wiki page.</a><br><br>'))"
   ]
  },
  {
   "cell_type": "code",
   "execution_count": null,
   "metadata": {},
   "outputs": [],
   "source": []
  }
 ],
 "metadata": {
  "kernelspec": {
   "display_name": "Python 3",
   "language": "python",
   "name": "python3"
  },
  "language_info": {
   "codemirror_mode": {
    "name": "ipython",
    "version": 3
   },
   "file_extension": ".py",
   "mimetype": "text/x-python",
   "name": "python",
   "nbconvert_exporter": "python",
   "pygments_lexer": "ipython3",
   "version": "3.6.5"
  }
 },
 "nbformat": 4,
 "nbformat_minor": 2
}
